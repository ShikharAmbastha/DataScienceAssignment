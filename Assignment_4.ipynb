{
 "cells": [
  {
   "cell_type": "raw",
   "id": "389309b1-cd91-44e4-ac77-679044dc6892",
   "metadata": {},
   "source": [
    "Q1 Answer-  In OOPS a class is a blueprint of the instance or variable of a program. It is used for code efficiency & reusability.\n",
    "            An Object is the instance or specific instance created for the blueprint i.e class. It refers to the specific arguments passed that defines it.\n",
    "            class is defined by----    \n",
    "            class ThisClass():\n",
    "                def ThisFunc(self):\n",
    "                    pass\n",
    "                    \n",
    "            Object of above class----\n",
    "            \n",
    "            car = ThisClass()"
   ]
  },
  {
   "cell_type": "raw",
   "id": "bb1b62c6-5106-4fcf-abfc-c6f2ba027429",
   "metadata": {},
   "source": [
    "Q2 Answer-\n",
    "\n",
    "Four Pillars of OOPs are-\n",
    "1. Inheritance\n",
    "2. Encapsulation\n",
    "3. Abstraction\n",
    "4. Polymorphism"
   ]
  },
  {
   "cell_type": "raw",
   "id": "f9950a06-d064-4e7c-9f5f-de0ff481ee92",
   "metadata": {},
   "source": [
    "Q3 Answer-\n",
    "\n",
    "__init()__ function is actually the constructor of the class. It is used when we wish to pass some arguments to the class.\n",
    "\n",
    "e.g\n",
    "\n",
    "class FirstClass():\n",
    "    def __init__(self, name, age):\n",
    "        self.name1 = name\n",
    "        self.age1 = age\n",
    "        \n",
    "    def return_value(self):\n",
    "        return self.name1, self. age1"
   ]
  },
  {
   "cell_type": "raw",
   "id": "04d754ae-8e39-4763-95d4-038ecc54ed15",
   "metadata": {},
   "source": [
    "Q4 Answer-\n",
    "\n",
    "self is used in class OOP as a pointer. It is used to initialise class specific variable inside class. It binds with the class & helps in initialising variables"
   ]
  },
  {
   "cell_type": "raw",
   "id": "c4944da2-5bcb-4850-8735-59980ae7be8d",
   "metadata": {},
   "source": [
    "Q5 Answer-\n",
    "\n",
    "Types of Inheritance in python-\n",
    "1. Single Inheritance- It enables child-class to inherit from parent class. e.g Father-->Child\n",
    "2. Multiple Inheritance- It enables child-class to inherit from multiple class. e.g Grandfather-->Father & Mother-->Child\n",
    "3. Multilevel Inheritance- When features from parent class is inherited by intermediary class & also possessed by class inheriting from intermediary class e.g Grandparent->Father->Child\n",
    "4. Hierarchichal Inheritance- When multiple child classes are derived from same parent class. e.g Father--> Child & Child\n",
    "5. Hybrid Inheritance- When class is derived from two differnt class but one parent class is not base class, it is derived from original base class."
   ]
  }
 ],
 "metadata": {
  "kernelspec": {
   "display_name": "Python 3 (ipykernel)",
   "language": "python",
   "name": "python3"
  },
  "language_info": {
   "codemirror_mode": {
    "name": "ipython",
    "version": 3
   },
   "file_extension": ".py",
   "mimetype": "text/x-python",
   "name": "python",
   "nbconvert_exporter": "python",
   "pygments_lexer": "ipython3",
   "version": "3.10.8"
  }
 },
 "nbformat": 4,
 "nbformat_minor": 5
}
