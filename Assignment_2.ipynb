{
 "cells": [
  {
   "cell_type": "raw",
   "id": "7ce49053-a720-4c44-b51d-f04bc8731a4b",
   "metadata": {},
   "source": [
    "Q1 Answer-  \"def\" keyword is used to create function in python.\n",
    "\n",
    "def odd():\n",
    "  l = []  \n",
    "  for i in range(1,25,2):\n",
    "    l.append(i)\n",
    "  return l\n",
    "\n",
    "print(odd())"
   ]
  },
  {
   "cell_type": "raw",
   "id": "a0471023-1805-48e9-bcf0-bb426bdf1e89",
   "metadata": {},
   "source": [
    "Q2 Answer-  *args is used when number of arguments that are going to be passed is not fixed.\n",
    "            **kwargs is used when we want create dictionary from key value pair passed as argument.\n",
    "            \n",
    "def func1(*args):\n",
    "    return args\n",
    "    \n",
    "print(func1(a=10,b=5))\n",
    "\n",
    "\n",
    "def func2(**kwargs)\n",
    "    return k , v in kwargs.item():\n",
    "    "
   ]
  },
  {
   "cell_type": "raw",
   "id": "5fc5ecdd-fd3a-4ba3-a270-a9ff3b1e2f8e",
   "metadata": {},
   "source": [
    "Q3 Answer-  An iterator in python is that object that can be iterated over collection of data.\n",
    "            iter() method is used to initialise iterator.\n",
    "        \n",
    "l = [2, 4, 6, 8, 10, 12, 14, 16, 18, 20]\n",
    "\n",
    "n = iter(l)\n",
    "print(next(n))\n",
    "print(next(n))\n",
    "print(next(n))\n",
    "print(next(n))\n",
    "print(next(n))\n"
   ]
  },
  {
   "cell_type": "raw",
   "id": "7c04a96e-33c4-4041-842f-36e94ccc41b0",
   "metadata": {},
   "source": [
    "Q4 Answer-  A generator function in python is used so that objects can be iterated easily. It helps in reducing memory overloads & helps in memory management.\n",
    "            yield keyword is used an alternative to return & gives back the value processed.\n",
    "            \n",
    "def sequence(n):\n",
    "    for number in range(n):\n",
    "        yield number\n",
    "       \n",
    "sequence(5)       "
   ]
  },
  {
   "cell_type": "code",
   "execution_count": null,
   "id": "73a2bfc7-3e61-4bfe-b0ca-3c3f0f710c22",
   "metadata": {},
   "outputs": [],
   "source": []
  },
  {
   "cell_type": "raw",
   "id": "fa1a8e3f-2c1d-40a2-9232-106336aa4cd6",
   "metadata": {},
   "source": [
    "Q6 Answer-  \n",
    "\n",
    "a, b = 0, 1\n",
    "c = 0\n",
    "counter = 0\n",
    "while(counter < 11):\n",
    "    print(a)\n",
    "    c = a + b\n",
    "    a = b\n",
    "    b = c\n",
    "    counter += 1"
   ]
  },
  {
   "cell_type": "raw",
   "id": "966f221f-f912-4e59-b8ed-330d1d84857a",
   "metadata": {},
   "source": [
    "Q7 Answer-  list1 = [x for x in \"pwskills\"]\n",
    "            print(list1)"
   ]
  },
  {
   "cell_type": "raw",
   "id": "183774c7-d56a-4e49-b179-63a758e41332",
   "metadata": {},
   "source": [
    "Q8 Answer-  \n",
    "\n",
    "num = int(input(\"Enter a number\"))\n",
    "reverse = 0\n",
    "number = num\n",
    "while(num != 0):\n",
    "   remainder = num % 10\n",
    "   reverse = reverse * 10 + remainder\n",
    "   num = int(num / 10)\n",
    "if(number == reverse):\n",
    "   print(number,'is a Palindrome')\n",
    "else:\n",
    "   print(number,'is not a Palindrome')"
   ]
  },
  {
   "cell_type": "raw",
   "id": "fd1c4cda-2883-474e-9156-565a2762b972",
   "metadata": {},
   "source": [
    "Q9 Answer-\n",
    "\n",
    "list1 = [x for x in range(1,101)]\n",
    "list2 = [y for y in list1 if y % 2 != 0]\n",
    "\n",
    "print(list2)"
   ]
  }
 ],
 "metadata": {
  "kernelspec": {
   "display_name": "Python 3 (ipykernel)",
   "language": "python",
   "name": "python3"
  },
  "language_info": {
   "codemirror_mode": {
    "name": "ipython",
    "version": 3
   },
   "file_extension": ".py",
   "mimetype": "text/x-python",
   "name": "python",
   "nbconvert_exporter": "python",
   "pygments_lexer": "ipython3",
   "version": "3.10.8"
  }
 },
 "nbformat": 4,
 "nbformat_minor": 5
}
