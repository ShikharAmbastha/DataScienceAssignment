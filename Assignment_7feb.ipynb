{
 "cells": [
  {
   "cell_type": "raw",
   "id": "3d9e6704-70fe-4636-98ae-7689785811c5",
   "metadata": {},
   "source": [
    "Q1 Answer-\n",
    "\n",
    "def checker(password):\n",
    "  if len(password) == 10:\n",
    "    counter_up = 0\n",
    "    counter_low = 0\n",
    "    counter_num = 0\n",
    "    counter_sp = 0\n",
    "    special = \"@_!#$%^&*()<>?}{~:\"\n",
    "    for p in password:\n",
    "      if p.isupper() == True and counter_up < 2:\n",
    "        counter_up += 1\n",
    "      if p.islower() == True and counter_low < 2:\n",
    "        counter_low += 1\n",
    "      if p.isnumeric() == True and counter_num < 1:\n",
    "        counter_num += 1\n",
    "      if p in special and counter_sp < 3:\n",
    "        counter_sp += 1\n",
    "    if counter_up == 2 and counter_low == 2 and counter_num == 1 and counter_sp == 3:\n",
    "      return \"Valid Password\"\n",
    "    else:\n",
    "      return \"Not a Valid Password\"\n",
    "    \n",
    "password = input(\"Please enter your password \")\n",
    "print(checker(password))"
   ]
  },
  {
   "cell_type": "raw",
   "id": "b4c93db5-73cb-49c9-af15-62355c7664bd",
   "metadata": {},
   "source": [
    "Q2 Answer-\n",
    "\n",
    "1. lambda x:x == char\n",
    "\n",
    "2. lambda x:x.isnumeric() == True\n",
    "\n",
    "3. fruit = [(\"mango\",99),(\"orange\",80), (\"grapes\", 1000)]\n",
    "   fruit.sort(key = lambda x: x[1])\n",
    "   \n",
    "4. square = map(lambda x: x**2, range(1,11))\n",
    "   print(square)\n",
    "   \n",
    "5. cube_root = map(lambda x: x**(1/3), range(1,11))\n",
    "   print(cube_root)\n",
    "\n",
    "6. lambda x:x%2 == 0\n",
    "\n",
    "7. \n",
    "   def odd(l):\n",
    "     if l % 2 !=0 :\n",
    "       return l\n",
    "  \n",
    "\n",
    "   list1 = [1,2,3,4,5,6,7,8,9,10]\n",
    "   num = list(map(odd, list1))\n",
    "   print(num)\n",
    "   \n",
    "8. list1 = [1,2,3,4,5,6,-1,-2,-3,-4,-5,0]\n",
    "\n",
    "   def checker_pos(n):\n",
    "       if n > 0:\n",
    "           return n\n",
    "   def checker_neg(m):\n",
    "       if m < 0:\n",
    "           return m\n",
    "           \n",
    "   pos_list = list(map(checker_pos, list1))\n",
    "   neg_list = list(map(checker_neg, list1))\n",
    "   "
   ]
  }
 ],
 "metadata": {
  "kernelspec": {
   "display_name": "Python 3 (ipykernel)",
   "language": "python",
   "name": "python3"
  },
  "language_info": {
   "codemirror_mode": {
    "name": "ipython",
    "version": 3
   },
   "file_extension": ".py",
   "mimetype": "text/x-python",
   "name": "python",
   "nbconvert_exporter": "python",
   "pygments_lexer": "ipython3",
   "version": "3.10.8"
  }
 },
 "nbformat": 4,
 "nbformat_minor": 5
}
