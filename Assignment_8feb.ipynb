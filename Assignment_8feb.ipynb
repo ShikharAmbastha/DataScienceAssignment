{
 "cells": [
  {
   "cell_type": "raw",
   "id": "5d49b797-86cd-482c-9f0e-d37381174aea",
   "metadata": {},
   "source": [
    "Q1 Answer-  In OOPs Abstraction means hiding the details & just showing the necessary details. e.g In real world ATM is a good example as we just know function of each button but inside                     mechanism is hidden from us\n"
   ]
  },
  {
   "cell_type": "raw",
   "id": "df49d45b-3587-4ba5-9905-3d5f7c5ca6e3",
   "metadata": {},
   "source": [
    "Q2 Answer-  Abstraction is used for hiding unwanted data & only giving relevant data. While encapsulation means hiding both code & data to protect it from the outside\n",
    "            world.e.g Abstraction is the outer look of the mobile phone like display screen etc. while Encapsulation is how inner chips & circuits are connected together."
   ]
  },
  {
   "cell_type": "raw",
   "id": "7ff1873a-996f-4572-b8c0-a936c28751eb",
   "metadata": {},
   "source": [
    "Q3 Answer-  abc module in python is used for Abstraction in python. We first need to import it & use @abc.abstractmethod to use it on methods.\n",
    "            It is used when we need to enforce abstraction in the class & pass method definition to other class."
   ]
  },
  {
   "cell_type": "raw",
   "id": "eac59cab-b673-4753-a180-e50a31e76905",
   "metadata": {},
   "source": [
    "Q4 Answer-  We can achieve data abstraction first by importing abc module & then using @abc.abstractmethod to enforce it on the methods of the class."
   ]
  },
  {
   "cell_type": "raw",
   "id": "87723c23-50a9-45af-acc4-f92f21afc6cd",
   "metadata": {},
   "source": [
    "Q5 Answer-  No we cannot create instance of an abstract class as it is just the blueprint, things are not defined here. We can create child class based on it to define methods of abstract class             & then create object of that class. So instance based on child class from parent abstract class can be created."
   ]
  },
  {
   "cell_type": "code",
   "execution_count": null,
   "id": "38171cd3-4b52-47ba-a6fc-f5d4a12a6eec",
   "metadata": {},
   "outputs": [],
   "source": []
  }
 ],
 "metadata": {
  "kernelspec": {
   "display_name": "Python 3 (ipykernel)",
   "language": "python",
   "name": "python3"
  },
  "language_info": {
   "codemirror_mode": {
    "name": "ipython",
    "version": 3
   },
   "file_extension": ".py",
   "mimetype": "text/x-python",
   "name": "python",
   "nbconvert_exporter": "python",
   "pygments_lexer": "ipython3",
   "version": "3.10.8"
  }
 },
 "nbformat": 4,
 "nbformat_minor": 5
}
