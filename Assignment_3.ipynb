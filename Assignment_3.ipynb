{
 "cells": [
  {
   "cell_type": "raw",
   "id": "1e8ca936-001c-4ec1-953c-39e789051b37",
   "metadata": {},
   "source": []
  },
  {
   "cell_type": "raw",
   "id": "462237f6-e590-44c4-9416-d857d714ccda",
   "metadata": {},
   "source": [
    "Q2 Answer- \n",
    "\n",
    "list1 = [1,2,3,4,5,6,7,8,9,10]\n",
    "squares = list(map(lambda x: x**2, list1))\n",
    "\n",
    "print(squares)"
   ]
  },
  {
   "cell_type": "raw",
   "id": "6faf9b30-7600-47be-8e34-0f8ed0e833d5",
   "metadata": {},
   "source": [
    "Q3 Answer-\n",
    "\n",
    "list1 = [1,2,3,4,5,6,7,8,9,10]\n",
    "strings = tuple(map(lambda x: str(x), list1))\n",
    "\n",
    "print(strings)\n"
   ]
  },
  {
   "cell_type": "raw",
   "id": "880db16c-f1ff-4bd6-bb26-27122333376c",
   "metadata": {},
   "source": [
    "Q4 Answer-\n",
    "\n",
    "from functools import reduce\n",
    "\n",
    "product = reduce(lambda x, y: x*y , range(1,26))\n",
    "\n",
    "print(product)"
   ]
  },
  {
   "cell_type": "raw",
   "id": "93b97251-5082-47f9-96b3-8406ad177b28",
   "metadata": {},
   "source": [
    "Q5 Answer-\n",
    "\n",
    "list1 = [2, 3, 6, 9, 27, 60, 90, 120, 55, 46]\n",
    "list2 = filter(lambda x: x ((x%2==0) and (x%3==0)), list1)\n",
    "\n",
    "print(list2)"
   ]
  },
  {
   "cell_type": "raw",
   "id": "8a9801de-f1c9-4a78-959f-16e7097b24b9",
   "metadata": {},
   "source": [
    "Q6 Answer-\n",
    "\n",
    "list1 = ['python', 'php', 'aba', 'radar', 'level']\n",
    "\n",
    "def palin(l):\n",
    "  l1= []\n",
    "  for char in l:\n",
    "    if(char==char[::-1]):  \n",
    "      l1.append(char)  \n",
    "  return l1  \n",
    "print(palin(list1))"
   ]
  }
 ],
 "metadata": {
  "kernelspec": {
   "display_name": "Python 3 (ipykernel)",
   "language": "python",
   "name": "python3"
  },
  "language_info": {
   "codemirror_mode": {
    "name": "ipython",
    "version": 3
   },
   "file_extension": ".py",
   "mimetype": "text/x-python",
   "name": "python",
   "nbconvert_exporter": "python",
   "pygments_lexer": "ipython3",
   "version": "3.10.8"
  }
 },
 "nbformat": 4,
 "nbformat_minor": 5
}
