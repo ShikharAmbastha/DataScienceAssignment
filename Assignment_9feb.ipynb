{
 "cells": [
  {
   "cell_type": "raw",
   "id": "8d008da0-b313-427a-bf35-dcefdcc1e131",
   "metadata": {},
   "source": [
    "Q1 Answer- \n",
    "\n",
    "class vehicle:\n",
    "    def __init__(self, name_of_vehicle, max_speed, average_of_vehicle):\n",
    "        self.name_of_vehicle = name_of_vehicle\n",
    "        self.max_speed = max_speed\n",
    "        self.average_of_vehicle = average_of_vehicle"
   ]
  },
  {
   "cell_type": "raw",
   "id": "d14698c8-a664-48ac-8a7a-32dd3b2ca06e",
   "metadata": {},
   "source": [
    "Q2 Answer-\n",
    "\n",
    "class vehicle:\n",
    "    def __init__(self, name_of_vehicle, max_speed, average_of_vehicle):\n",
    "        self.name_of_vehicle = name_of_vehicle\n",
    "        self.max_speed = max_speed\n",
    "        self.average_of_vehicle = average_of_vehicle\n",
    "        \n",
    "class car(vehicle):\n",
    "    def seating_capacity(self, capacity):\n",
    "        self.capacity = capacity\n",
    "        return self.name_of_vehicle, self.capacity"
   ]
  },
  {
   "cell_type": "raw",
   "id": "50fa6295-b42d-40e2-a952-6e823b05d569",
   "metadata": {},
   "source": [
    "Q3 Answer-\n",
    "\n",
    "When a class inherits from more than one parent class then it is called multiple inheritance.\n",
    "\n",
    "class test1:\n",
    "    def method1(self):\n",
    "        pass\n",
    "        \n",
    "class test2:\n",
    "    def method2(self):\n",
    "        pass\n",
    "        \n",
    "class test3(test1, test2):\n",
    "    def method3(self):\n",
    "        pass\n"
   ]
  },
  {
   "cell_type": "raw",
   "id": "1860c181-4006-4d1a-ba74-5656cf03b130",
   "metadata": {},
   "source": [
    "Q4 Answer- Getter & Setter are used mainly in encapsulation type of programming. Setter is used to set the values of variables of parent class while Getter is used\n",
    "            to get those values\n",
    "            \n",
    "class test1:\n",
    "\n",
    "    def __init__(self, name, age):\n",
    "        self._name = name\n",
    "        self._age = age\n",
    "        \n",
    "    def set_value(self, a, b):\n",
    "        self._name = a\n",
    "        self._age = b\n",
    "        \n",
    "    def get_value(self):\n",
    "        return self._name, self._age"
   ]
  },
  {
   "cell_type": "raw",
   "id": "e6361995-9f11-49b0-9c36-679840f623e2",
   "metadata": {},
   "source": [
    "Q5 Answer-  Method overring is an ability in which a child class can give specific implementation definition of the method already defined in parent class.\n",
    "\n",
    "class test1:\n",
    "\n",
    "    def __init__(self, age):\n",
    "        self.age = 20\n",
    "        \n",
    "    def get_value(self):\n",
    "        return self.age\n",
    "        \n",
    "class test2(test1):\n",
    "\n",
    "    def __init__(self, age):\n",
    "        self.age = 30\n",
    "        \n",
    "    def get_value(self):\n",
    "        return self.age"
   ]
  }
 ],
 "metadata": {
  "kernelspec": {
   "display_name": "Python 3 (ipykernel)",
   "language": "python",
   "name": "python3"
  },
  "language_info": {
   "codemirror_mode": {
    "name": "ipython",
    "version": 3
   },
   "file_extension": ".py",
   "mimetype": "text/x-python",
   "name": "python",
   "nbconvert_exporter": "python",
   "pygments_lexer": "ipython3",
   "version": "3.10.8"
  }
 },
 "nbformat": 4,
 "nbformat_minor": 5
}
