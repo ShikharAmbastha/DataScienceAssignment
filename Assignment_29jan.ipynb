{
 "cells": [
  {
   "cell_type": "raw",
   "id": "6dea6fc7-b516-40e9-a7ca-7320fc48069c",
   "metadata": {},
   "source": [
    "Q1 Answer- Python programming language was developed by Guido Van Rossum."
   ]
  },
  {
   "cell_type": "raw",
   "id": "c5361caa-baa3-47e0-9e77-d96ee91a5dd4",
   "metadata": {},
   "source": [
    "Q2 Answer- Python supports Dynamically typed, High Level programming language. It supports modules & classes."
   ]
  },
  {
   "cell_type": "raw",
   "id": "676c86fb-fc51-4371-9a4b-7a0321e1162a",
   "metadata": {},
   "source": [
    "Q3 Answer- Yes python is case sensitive when dealing with identifiers."
   ]
  },
  {
   "cell_type": "raw",
   "id": "e1c7476c-b03a-4318-a5a8-f4134f427217",
   "metadata": {},
   "source": [
    "Q4 Answer- Correct extension of python file is .py, .pyc etc"
   ]
  },
  {
   "cell_type": "raw",
   "id": "24dcff95-a275-4661-a537-edfdf2407033",
   "metadata": {},
   "source": [
    "Q5 Answer- Python is an interpreted programming language. Meaning its code are converted into byte code & then run though virtual machine."
   ]
  },
  {
   "cell_type": "raw",
   "id": "338aa1bb-a2c2-4e40-945d-dc9434551a26",
   "metadata": {},
   "source": [
    "Q6 Answer- Indentation is used to define blocks of code in python language. Functions can also be used to define blocks of code. Classes can also be used"
   ]
  },
  {
   "cell_type": "raw",
   "id": "c370877f-2f6c-4578-8f20-d918f2a1617a",
   "metadata": {},
   "source": [
    "Q7 Answer- # is used for single line comments in python.\n"
   ]
  },
  {
   "cell_type": "raw",
   "id": "6b6453d7-92b5-421d-b80e-67976c9ab3c8",
   "metadata": {},
   "source": [
    "Q8 Answer- python -version is used to check the version of python currently running."
   ]
  },
  {
   "cell_type": "raw",
   "id": "5e1ff5e5-19e8-434c-b4e9-669676c7fb42",
   "metadata": {},
   "source": [
    "Q9 Answer- lambda is used to create anonymous function"
   ]
  },
  {
   "cell_type": "raw",
   "id": "f55b862e-6962-4886-9b4d-64447875204e",
   "metadata": {},
   "source": [
    "Q10 Answer- pip stands for Package Management System in python"
   ]
  },
  {
   "cell_type": "raw",
   "id": "99931893-190b-487c-99dc-f5546ced14db",
   "metadata": {},
   "source": [
    "Q11 Answer- Few built-in functions in python are range(), split(), IsUpper(), len(), iter() etc"
   ]
  },
  {
   "cell_type": "raw",
   "id": "526232ce-5303-4f52-ab29-41d1a4efcb54",
   "metadata": {},
   "source": [
    "Q12 Answer- Maximum length of identifier is 79."
   ]
  },
  {
   "cell_type": "raw",
   "id": "2c69c7be-9e03-40aa-9c07-bc2fecebb391",
   "metadata": {},
   "source": [
    "Q13 Answer- Python is very easy to learn & easy to use language. It is dynamically typed OOP language so helpful in many places.\n",
    "            Python is most flexible & versatile language."
   ]
  },
  {
   "cell_type": "raw",
   "id": "c98a1a1f-332d-4a9b-a007-ad5c060c32d8",
   "metadata": {},
   "source": [
    "Q14 Answer- There is dynamic memory management which is managed through heap "
   ]
  },
  {
   "cell_type": "raw",
   "id": "31eb3f42-d6b7-453c-8106-6d38a1fab68e",
   "metadata": {},
   "source": [
    "Q15 Answer- \n",
    "* We can download python version 3 though python.org\n",
    "\n",
    "* Right-clicking This PC and going to Properties.\n",
    "\n",
    "* Clicking on the Advanced system settings in the menu on the left.\n",
    "\n",
    "* Clicking on the Environment Variables button o​n the bottom right.\n",
    "\n",
    "* In the System variables section, selecting the Path variable and clicking on Edit. The next screen will show all the directories that are currently a part of the PATH variable.\n",
    "\n",
    "* Clicking on New and entering Python’s install directory."
   ]
  },
  {
   "cell_type": "raw",
   "id": "8869509e-56b2-43f8-b4b3-a0de5d9cf7cd",
   "metadata": {},
   "source": [
    "Q16 Answer- In python indentation is most important. Code blocks are defined through it. During custom function creation, custom class creation, if block, for loop, everywhere indentation is used"
   ]
  }
 ],
 "metadata": {
  "kernelspec": {
   "display_name": "Python 3 (ipykernel)",
   "language": "python",
   "name": "python3"
  },
  "language_info": {
   "codemirror_mode": {
    "name": "ipython",
    "version": 3
   },
   "file_extension": ".py",
   "mimetype": "text/x-python",
   "name": "python",
   "nbconvert_exporter": "python",
   "pygments_lexer": "ipython3",
   "version": "3.10.8"
  }
 },
 "nbformat": 4,
 "nbformat_minor": 5
}
