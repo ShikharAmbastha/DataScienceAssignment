{
 "cells": [
  {
   "cell_type": "raw",
   "id": "bb9487e2-332c-4f6a-9176-fa4b0011f7d8",
   "metadata": {},
   "source": [
    "Q1 Answer-\n",
    "\n",
    "def product(l):\n",
    "    l1 = []\n",
    "    prod = 1\n",
    "    for val in l:\n",
    "        if type(val) == list:\n",
    "          for x in val:\n",
    "            l1.append(x)\n",
    "        elif type(val) == dict:\n",
    "          k = val.keys()\n",
    "          v = val.values()\n",
    "          for m in k:\n",
    "            if(type(m) == list):\n",
    "              for j in m:\n",
    "                l1.append(j)\n",
    "            else:\n",
    "              l1.append(m)\n",
    "          for n in v:\n",
    "            if(type(n) == list):\n",
    "              for i in n:\n",
    "                l1.append(i)\n",
    "            else:\n",
    "              l1.append(n)\n",
    "        else:\n",
    "            l1.append(val)\n",
    "     \n",
    "    for char in l1:\n",
    "        if type(char) == int or type(char) == float:\n",
    "          print(prod)  \n",
    "          prod *= char\n",
    "       \n",
    "    return prod\n",
    "    \n",
    "list1 = [1,2,3,4, [44,55,66, True], False, (34,56,78,89,34), {1,2,3,3,2,1}, {1:34, \"key2\": [55, 67, 78, 89], 4: (45,22, 61, 34)}, [56, 'data science'], 'Machine Learning']\n",
    "\n",
    "print(product(list1))    \n",
    "     "
   ]
  },
  {
   "cell_type": "raw",
   "id": "e9d56ff0-095b-4013-8156-1dbcdd4b4bb9",
   "metadata": {},
   "source": [
    "Q2 Answer-\n",
    "\n",
    "def conv(msg):\n",
    "    encrypted = \"\"\n",
    "    for char in msg:\n",
    "        if char.isalpha():\n",
    "            if char.isupper():\n",
    "                encrypted += chr(ord('Z') - ord(char) + ord('A'))\n",
    "            else:\n",
    "                encrypted += chr(ord('z') - ord(char) + ord('a'))\n",
    "        elif char == \" \":\n",
    "            encrypted += \"$\"\n",
    "        else:\n",
    "            encrypted += char\n",
    "    return encrypted.lower()\n",
    "\n",
    "message = \"I want to become a Data Scientist.\"\n",
    "print(conv(message))"
   ]
  }
 ],
 "metadata": {
  "kernelspec": {
   "display_name": "Python 3 (ipykernel)",
   "language": "python",
   "name": "python3"
  },
  "language_info": {
   "codemirror_mode": {
    "name": "ipython",
    "version": 3
   },
   "file_extension": ".py",
   "mimetype": "text/x-python",
   "name": "python",
   "nbconvert_exporter": "python",
   "pygments_lexer": "ipython3",
   "version": "3.10.8"
  }
 },
 "nbformat": 4,
 "nbformat_minor": 5
}
