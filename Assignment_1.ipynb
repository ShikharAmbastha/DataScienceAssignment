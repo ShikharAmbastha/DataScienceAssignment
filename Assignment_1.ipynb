{
 "cells": [
  {
   "cell_type": "raw",
   "id": "22ea23d4-6a28-4440-a12b-5e467564dff5",
   "metadata": {},
   "source": [
    "Q1 Answer - For loop is used when the number of iterations are known. e.g Number of students in class(A finite list)\n",
    "            While loop is used when we dont know for how much time the logic is going to be true. e.g It runs till the logic inside while condition remains true."
   ]
  },
  {
   "cell_type": "raw",
   "id": "80ef5f98-1376-4a32-b09f-2dbe22fff499",
   "metadata": {},
   "source": [
    "Q2 Answer\n",
    "\n",
    "total = 0\n",
    "for number in range(1,11):\n",
    "    total += number\n",
    "print(total)\n",
    "\n",
    "\n",
    "total = 0\n",
    "number = 1\n",
    "while(number < 11):\n",
    "    total += number\n",
    "    number +=1\n",
    "print(total)    "
   ]
  },
  {
   "cell_type": "raw",
   "id": "a26b0f21-f954-4897-9099-982ae6661124",
   "metadata": {},
   "source": [
    "Q3 Answer\n",
    "\n",
    "units_consumed = float(input(\"Enter the unit of electricity consumed \"))\n",
    "bill = 0\n",
    "\n",
    "if(units_consumed <= 100):\n",
    "  bill = units_consumed * 4.5\n",
    "elif(units_consumed <= 200):\n",
    "  bill = (100 * 4.5) + (units_consumed - 100) * 6\n",
    "elif(units_consumed <= 300):\n",
    "  bill = (100 * 4.5) + (100 * 6) + (units_consumed - 200) * 10\n",
    "elif(units_consumed > 300):\n",
    "  bill = (100 * 4.5) + (100 * 6) + (100 * 10) + (units_consumed - 300) * 20\n",
    "\n",
    "print(bill)\n"
   ]
  },
  {
   "cell_type": "raw",
   "id": "3f499ab2-c92e-420d-8373-565254c2be52",
   "metadata": {},
   "source": [
    "number = 0\n",
    "list1 = []\n",
    "for i in range(1, 101):\n",
    "    number = pow(i , 3)\n",
    "    if((number % 4 ==0) or (number % 5 == 0)):\n",
    "        list1.append(i)\n",
    "print(list1)        "
   ]
  },
  {
   "cell_type": "raw",
   "id": "a0a27043-eaf7-4e22-b992-b188fabf9764",
   "metadata": {},
   "source": [
    "given = \"I want to become a data scientist\"\n",
    "vowel = \"AaEeIiOoUu\"\n",
    "for char in given:\n",
    "    if char in vowel:\n",
    "        print(char)\n",
    "    "
   ]
  }
 ],
 "metadata": {
  "kernelspec": {
   "display_name": "Python 3 (ipykernel)",
   "language": "python",
   "name": "python3"
  },
  "language_info": {
   "codemirror_mode": {
    "name": "ipython",
    "version": 3
   },
   "file_extension": ".py",
   "mimetype": "text/x-python",
   "name": "python",
   "nbconvert_exporter": "python",
   "pygments_lexer": "ipython3",
   "version": "3.10.8"
  }
 },
 "nbformat": 4,
 "nbformat_minor": 5
}
